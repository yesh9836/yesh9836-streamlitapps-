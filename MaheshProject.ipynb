{
  "nbformat": 4,
  "nbformat_minor": 0,
  "metadata": {
    "colab": {
      "provenance": [],
      "toc_visible": true,
      "include_colab_link": true
    },
    "kernelspec": {
      "name": "python3",
      "display_name": "Python 3"
    },
    "language_info": {
      "name": "python"
    }
  },
  "cells": [
    {
      "cell_type": "markdown",
      "metadata": {
        "id": "view-in-github",
        "colab_type": "text"
      },
      "source": [
        "<a href=\"https://colab.research.google.com/github/yesh9836/yesh9836-streamlitapps-/blob/main/MaheshProject.ipynb\" target=\"_parent\"><img src=\"https://colab.research.google.com/assets/colab-badge.svg\" alt=\"Open In Colab\"/></a>"
      ]
    },
    {
      "cell_type": "code",
      "execution_count": null,
      "metadata": {
        "id": "W1dDAEYFA4Ir"
      },
      "outputs": [],
      "source": [
        "import pandas as pd\n",
        "df = pd.read_csv(\"/content/Mental disorder symptoms.csv\")  #\n",
        "desired_order = [\n",
        "   \"ag+1:629e\",\"feeling.nervous\", \"trouble.in.concentration\", \"having.trouble.in.sleeping\",\n",
        "    \"social.media.addiction\", \"having.nightmares\", \"change.in.eating\",\n",
        "    \"feeling.tired\", \"sweating\", \"breathing.rapidly\", \"anger\",\n",
        "    'close.friend', \"introvert\", \"feeling.negative\", \"avoids.people.or.activities\",\n",
        "     \"blamming.yourself\", \"hallucinations\", \"panic\",\n",
        "    \"hopelessness\", \"suicidal.thought\", \"popping.up.stressful.memory\",\"Disorder\"\n",
        "]\n",
        "\n",
        "# Reordering the columns\n",
        "df = df[desired_order]\n",
        "y=df[\"Disorder\"]\n",
        "x=df.drop(\"Disorder\",axis=1)"
      ]
    },
    {
      "cell_type": "code",
      "source": [
        "# preprocessing, converting diseases into numerical data\n",
        "from sklearn.preprocessing import MinMaxScaler, LabelEncoder\n",
        "from sklearn.model_selection import train_test_split\n",
        "encoder = LabelEncoder()\n",
        "y_encoded = encoder.fit_transform(y)\n",
        "encoder.fit(y)\n",
        "# Get the mapping as a DataFrame\n",
        "label_mapping = pd.DataFrame({\n",
        "    'label': encoder.classes_,\n",
        "    'encoded': encoder.transform(encoder.classes_)\n",
        "})\n",
        "\n",
        "# Save to CSV\n",
        "label_mapping.to_csv('label_encoder_mappings.csv', index=False)\n",
        "\n",
        "X_train, X_test, y_train, y_test = train_test_split(x, y_encoded, test_size=0.3, random_state=42)\n",
        "print(X_train.shape,y_train.shape)"
      ],
      "metadata": {
        "colab": {
          "base_uri": "https://localhost:8080/"
        },
        "id": "mYKAYD50xf91",
        "outputId": "d04f85a4-9f9d-4931-d774-390ff448fadd"
      },
      "execution_count": null,
      "outputs": [
        {
          "output_type": "stream",
          "name": "stdout",
          "text": [
            "(445, 21) (445,)\n"
          ]
        }
      ]
    },
    {
      "cell_type": "code",
      "source": [
        "from sklearn.ensemble import VotingClassifier, RandomForestClassifier\n",
        "from sklearn.tree import DecisionTreeClassifier\n",
        "from sklearn.svm import SVC\n",
        "from sklearn.naive_bayes import GaussianNB\n",
        "from sklearn.linear_model import LogisticRegression\n",
        "from sklearn.model_selection import train_test_split\n",
        "from sklearn.metrics import accuracy_score\n",
        "import joblib\n",
        "\n",
        "# Initialize classifiers\n",
        "rf = RandomForestClassifier(n_estimators=100, random_state=42)\n",
        "dt = DecisionTreeClassifier(random_state=42)\n",
        "svm = SVC(kernel='linear', probability=True, random_state=42)  # Set probability=True for soft voting\n",
        "nb = GaussianNB()\n",
        "lr = LogisticRegression(random_state=42)\n",
        "\n",
        "# Create the VotingClassifier (with hard voting)\n",
        "voting_clf = VotingClassifier(estimators=[\n",
        "    ('rf', rf),\n",
        "    ('dt', dt),\n",
        "    ('svm', svm),\n",
        "    ('nb', nb),\n",
        "    ('lr', lr)\n",
        "], voting='hard')  # For hard voting\n",
        "\n",
        "# 2. Train the VotingClassifier\n",
        "model=voting_clf.fit(X_train, y_train)\n",
        "joblib.dump(model, 'model.pkl')\n",
        "\n",
        "# 3. Predict on the test set\n",
        "y_pred = model.predict(X_test)\n",
        "# 4. Evaluate the model\n",
        "# Reverse the encoding for predicted disease names\n",
        "predicted_diseases = encoder.inverse_transform(y_pred)\n",
        "\n",
        "# Print the predicted diseases\n",
        "print(\"Predicted Diseases: \", predicted_diseases)\n",
        "\n",
        "# Accuracy score\n",
        "accuracy = accuracy_score(y_test, y_pred)\n",
        "\n",
        "# Print the accuracy\n",
        "print(f\"Voting Classifier (Hard Voting) Accuracy: {accuracy}\")\n",
        "\n"
      ],
      "metadata": {
        "colab": {
          "base_uri": "https://localhost:8080/"
        },
        "id": "pOW64KeYz0-a",
        "outputId": "85d0f648-e75b-4630-a06a-896642c22bcd"
      },
      "execution_count": null,
      "outputs": [
        {
          "output_type": "stream",
          "name": "stdout",
          "text": [
            "[ 0  1  2  7  3  1  9  9  1  1 10  1  4  3  7  9  3  6  8  0  0  2  3  3\n",
            "  5  7  0  2  6  5  4  1  0  6  5  4  0  9  5  9  0  5  9  5  1 10  0  0\n",
            "  3  1  8 11  2  3  2  9  8  9  1  0  0  5  9  0  7  8  9  9  7 10  1  7\n",
            "  5  0  0  0  0  2  0  7  6 10  5 11  3  1  0  5 10  1  2  1 10  9  3  6\n",
            "  1  9  0 10  4  9  1  3  3  3  2 11 11  8  5  7  7  0  3  3  7  9  6  2\n",
            "  0  4  2  3  1  2  3  4  3 10  3  8  9  0  4  2 11  0  9  5  9  2  6  2\n",
            "  8  5  4  3  9  8  1  7  1  1  2  1  3  6  4  7  8  5  7 10  0 10  0  5\n",
            "  2  0  9  5  1  9  9  4  0  9  6  5  0  2  3  9 10  1  9  5  4  0  2 11]\n",
            "Predicted Diseases:  ['ADHD' 'ASD' 'Loneliness' 'anexiety' 'MDD' 'ASD' 'eating disorder'\n",
            " 'eating disorder' 'ASD' 'ASD' 'psychotic deprission' 'ASD' 'OCD' 'MDD'\n",
            " 'anexiety' 'eating disorder' 'MDD' 'PTSD' 'bipolar' 'ADHD' 'ADHD'\n",
            " 'Loneliness' 'MDD' 'MDD' 'PDD' 'anexiety' 'ADHD' 'Loneliness' 'PTSD'\n",
            " 'PDD' 'OCD' 'ASD' 'ADHD' 'PTSD' 'PDD' 'OCD' 'ADHD' 'eating disorder'\n",
            " 'PDD' 'eating disorder' 'ADHD' 'PDD' 'eating disorder' 'PDD' 'ASD'\n",
            " 'psychotic deprission' 'ADHD' 'ADHD' 'MDD' 'ASD' 'bipolar'\n",
            " 'sleeping disorder' 'Loneliness' 'MDD' 'Loneliness' 'eating disorder'\n",
            " 'bipolar' 'eating disorder' 'ASD' 'ADHD' 'ADHD' 'PDD' 'eating disorder'\n",
            " 'ADHD' 'anexiety' 'bipolar' 'eating disorder' 'eating disorder'\n",
            " 'anexiety' 'psychotic deprission' 'ASD' 'anexiety' 'PDD' 'ADHD' 'ADHD'\n",
            " 'ADHD' 'ADHD' 'Loneliness' 'ADHD' 'anexiety' 'PTSD'\n",
            " 'psychotic deprission' 'PDD' 'sleeping disorder' 'MDD' 'ASD' 'ADHD' 'PDD'\n",
            " 'psychotic deprission' 'ASD' 'Loneliness' 'ASD' 'psychotic deprission'\n",
            " 'eating disorder' 'MDD' 'PTSD' 'ASD' 'eating disorder' 'ADHD'\n",
            " 'psychotic deprission' 'OCD' 'eating disorder' 'ASD' 'MDD' 'MDD' 'MDD'\n",
            " 'Loneliness' 'sleeping disorder' 'sleeping disorder' 'bipolar' 'PDD'\n",
            " 'anexiety' 'anexiety' 'ADHD' 'MDD' 'MDD' 'anexiety' 'eating disorder'\n",
            " 'PTSD' 'Loneliness' 'ADHD' 'OCD' 'Loneliness' 'MDD' 'ASD' 'Loneliness'\n",
            " 'MDD' 'OCD' 'MDD' 'psychotic deprission' 'MDD' 'bipolar'\n",
            " 'eating disorder' 'ADHD' 'OCD' 'Loneliness' 'sleeping disorder' 'ADHD'\n",
            " 'eating disorder' 'PDD' 'eating disorder' 'Loneliness' 'PTSD'\n",
            " 'Loneliness' 'bipolar' 'PDD' 'OCD' 'MDD' 'eating disorder' 'bipolar'\n",
            " 'ASD' 'anexiety' 'ASD' 'ASD' 'Loneliness' 'ASD' 'MDD' 'PTSD' 'OCD'\n",
            " 'anexiety' 'bipolar' 'PDD' 'anexiety' 'psychotic deprission' 'ADHD'\n",
            " 'psychotic deprission' 'ADHD' 'PDD' 'Loneliness' 'ADHD' 'eating disorder'\n",
            " 'PDD' 'ASD' 'eating disorder' 'eating disorder' 'OCD' 'ADHD'\n",
            " 'eating disorder' 'PTSD' 'PDD' 'ADHD' 'Loneliness' 'MDD'\n",
            " 'eating disorder' 'psychotic deprission' 'ASD' 'eating disorder' 'PDD'\n",
            " 'OCD' 'ADHD' 'Loneliness' 'sleeping disorder']\n",
            "Voting Classifier (Hard Voting) Accuracy: 0.9895833333333334\n"
          ]
        },
        {
          "output_type": "stream",
          "name": "stderr",
          "text": [
            "/usr/local/lib/python3.10/dist-packages/sklearn/linear_model/_logistic.py:469: ConvergenceWarning: lbfgs failed to converge (status=1):\n",
            "STOP: TOTAL NO. of ITERATIONS REACHED LIMIT.\n",
            "\n",
            "Increase the number of iterations (max_iter) or scale the data as shown in:\n",
            "    https://scikit-learn.org/stable/modules/preprocessing.html\n",
            "Please also refer to the documentation for alternative solver options:\n",
            "    https://scikit-learn.org/stable/modules/linear_model.html#logistic-regression\n",
            "  n_iter_i = _check_optimize_result(\n"
          ]
        }
      ]
    },
    {
      "cell_type": "code",
      "source": [
        "!pip install streamlit -q\n",
        "!pip install pyngrok"
      ],
      "metadata": {
        "colab": {
          "base_uri": "https://localhost:8080/"
        },
        "id": "_ZA00zlJtxBf",
        "outputId": "b33fca9d-e458-4033-af63-e9c20108caba"
      },
      "execution_count": null,
      "outputs": [
        {
          "output_type": "stream",
          "name": "stdout",
          "text": [
            "Requirement already satisfied: pyngrok in /usr/local/lib/python3.10/dist-packages (7.2.1)\n",
            "Requirement already satisfied: PyYAML>=5.1 in /usr/local/lib/python3.10/dist-packages (from pyngrok) (6.0.2)\n"
          ]
        }
      ]
    },
    {
      "cell_type": "code",
      "source": [
        "!wget -q -O - ipv4.icanhazip.com"
      ],
      "metadata": {
        "colab": {
          "base_uri": "https://localhost:8080/"
        },
        "id": "NDg31Of_wsdz",
        "outputId": "f56c545b-8b1b-4671-eb2b-984b4dac49bd"
      },
      "execution_count": null,
      "outputs": [
        {
          "output_type": "stream",
          "name": "stdout",
          "text": [
            "35.199.149.142\n"
          ]
        }
      ]
    },
    {
      "cell_type": "code",
      "source": [
        "\n",
        "\n",
        "%%writefile app.py\n",
        "import streamlit as st\n",
        "import joblib\n",
        "import pandas as pd\n",
        "from sklearn.preprocessing import MinMaxScaler, LabelEncoder\n",
        "\n",
        "\n",
        "# Load the model\n",
        "model = joblib.load('model.pkl')\n",
        "\n",
        "# Define features and their levels\n",
        "levels = {\n",
        "    \"Level 1\": [\n",
        "        \"ag+1:629e\", \"feeling.nervous\", \"trouble.in.concentration\",\n",
        "        \"having.trouble.in.sleeping\", \"social.media.addiction\",\n",
        "        \"having.nightmares\", \"change.in.eating\", \"feeling.tired\"\n",
        "    ],\n",
        "    \"Level 2\": [\n",
        "        \"sweating\", \"breathing.rapidly\", \"anger\", \"close.friend\",\n",
        "        \"introvert\", \"feeling.negative\", \"avoids.people.or.activities\",\n",
        "        \"blamming.yourself\"\n",
        "    ],\n",
        "    \"Level 3\": [\n",
        "        \"hallucinations\", \"panic\", \"hopelessness\",\n",
        "        \"suicidal.thought\", \"popping.up.stressful.memory\"\n",
        "    ]\n",
        "}\n",
        "\n",
        "st.title(\"Mental Health Assessment Chatbot\")\n",
        "\n",
        "# Name and age input\n",
        "\n",
        "\n",
        "# Store responses\n",
        "responses = {}  # Use age input for \"ag+1:629e\"\n",
        "\n",
        "# Loop through levels and features within them\n",
        "for level, features in levels.items():\n",
        "    with st.expander(level):\n",
        "        st.subheader(level)  # Display level number prominently\n",
        "\n",
        "        for feature in features:\n",
        "            if feature == \"ag+1:629e\":  # Skip asking age again\n",
        "              name = st.text_input(\"What is your name?\")\n",
        "              age = st.number_input(\"How old are you?\", min_value=0, max_value=120, step=1)\n",
        "              responses[\"ag+1:629e\"]=age\n",
        "              continue\n",
        "            question = f\"Do you experience {feature.replace('.', ' ')}?\"\n",
        "            user_response = st.selectbox(\n",
        "                question,\n",
        "                options=[\"Select an option\", \"Yes\", \"No\"],\n",
        "                key=feature\n",
        "            )\n",
        "            # Store response only if not placeholder\n",
        "\n",
        "            responses[feature] = 1 if user_response == \"Yes\" else (0 if user_response == \"No\" else None)\n",
        "\n",
        "if st.button(\"Submit\"):\n",
        "    if None in responses.values():\n",
        "        st.warning(\"Please answer all the questions before submitting.\")\n",
        "    else:\n",
        "        st.write(f\"Thank you, {name}.\")\n",
        "\n",
        "        # Prediction\n",
        "        input_data = pd.DataFrame([responses])\n",
        "        prediction = model.predict(input_data)\n",
        "        loaded_mapping = pd.read_csv('label_encoder_mappings.csv')\n",
        "        for i in responses.keys():\n",
        "          if responses[i]==1:\n",
        "            responses[i]=\"yes\"\n",
        "          elif  responses[i]==0 :\n",
        "            responses[i]=\"no\"\n",
        "\n",
        "        # Recreate the LabelEncoder\n",
        "        encoder = LabelEncoder()\n",
        "        encoder.classes_ = loaded_mapping['label'].values\n",
        "        st.write(f\"your responses are :{responses}\")\n",
        "        st.write(f\"The model predicts: {encoder.inverse_transform([prediction[0]])}\")\n"
      ],
      "metadata": {
        "id": "1fwptHVi9qeP",
        "colab": {
          "base_uri": "https://localhost:8080/"
        },
        "outputId": "5764820c-46f9-4083-e442-ab1c9ba5055c"
      },
      "execution_count": null,
      "outputs": [
        {
          "output_type": "stream",
          "name": "stdout",
          "text": [
            "Overwriting app.py\n"
          ]
        }
      ]
    },
    {
      "cell_type": "code",
      "source": [
        "\n"
      ],
      "metadata": {
        "colab": {
          "base_uri": "https://localhost:8080/"
        },
        "id": "_SsBUO5FNMBK",
        "outputId": "57092e40-20d4-4cd1-f74c-14d96ce72785"
      },
      "execution_count": null,
      "outputs": [
        {
          "output_type": "stream",
          "name": "stdout",
          "text": [
            "['ADHD' 'ASD' 'Loneliness' 'MDD' 'OCD' 'PDD' 'PTSD' 'anexiety' 'bipolar'\n",
            " 'eating disorder' 'psychotic deprission' 'sleeping disorder']\n",
            "['MDD']\n"
          ]
        }
      ]
    },
    {
      "cell_type": "code",
      "source": [
        "!npm install localtunnel\n"
      ],
      "metadata": {
        "colab": {
          "base_uri": "https://localhost:8080/"
        },
        "id": "pz4wCsPwu0MW",
        "outputId": "167286bb-75fb-4c51-9fa2-101294683080"
      },
      "execution_count": null,
      "outputs": [
        {
          "output_type": "stream",
          "name": "stdout",
          "text": [
            "\u001b[K\u001b[?25h\n",
            "up to date, audited 23 packages in 480ms\n",
            "\n",
            "3 packages are looking for funding\n",
            "  run `npm fund` for details\n",
            "\n",
            "2 \u001b[33m\u001b[1mmoderate\u001b[22m\u001b[39m severity vulnerabilities\n",
            "\n",
            "To address all issues (including breaking changes), run:\n",
            "  npm audit fix --force\n",
            "\n",
            "Run `npm audit` for details.\n"
          ]
        }
      ]
    },
    {
      "cell_type": "code",
      "source": [
        "!streamlit run app.py &>/content/logs.txt &"
      ],
      "metadata": {
        "id": "lnuqdRQGyvB1"
      },
      "execution_count": null,
      "outputs": []
    },
    {
      "cell_type": "code",
      "source": [
        "!npx localtunnel --port 8501"
      ],
      "metadata": {
        "colab": {
          "base_uri": "https://localhost:8080/"
        },
        "id": "w9wmzaUwy0LL",
        "outputId": "e7fbcdf9-e920-4686-b374-ba07244e8fcb"
      },
      "execution_count": null,
      "outputs": [
        {
          "output_type": "stream",
          "name": "stdout",
          "text": [
            "your url is: https://fruity-peas-say.loca.lt\n",
            "^C\n"
          ]
        }
      ]
    }
  ]
}